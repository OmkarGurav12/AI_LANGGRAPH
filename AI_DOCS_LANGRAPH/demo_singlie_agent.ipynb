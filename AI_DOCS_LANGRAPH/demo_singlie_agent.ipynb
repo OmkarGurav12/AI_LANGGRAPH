{
 "cells": [
  {
   "cell_type": "code",
   "execution_count": 1,
   "metadata": {},
   "outputs": [],
   "source": [
    "from typing import Dict, TypedDict, List\n",
    "from langchain_core.messages import HumanMessage\n",
    "from langgraph.graph import Graph, END\n",
    "import json\n",
    "from typing import Annotated, Sequence\n",
    "from langchain_core.messages import BaseMessage\n",
    "from typing import Annotated\n",
    "import operator,json\n",
    "from typing import TypedDict, Annotated, Sequence\n",
    "from typing_extensions import TypedDict\n",
    "from langgraph.checkpoint.memory import MemorySaver\n",
    "from langgraph.graph import StateGraph,END,START\n",
    "from langgraph.graph.message import add_messages\n",
    "from langgraph.prebuilt import ToolNode, tools_condition\n",
    "from langchain_core.tools import tool\n",
    "from langchain_community.tools.tavily_search import TavilySearchResults\n",
    "\n",
    "import os"
   ]
  },
  {
   "cell_type": "code",
   "execution_count": 2,
   "metadata": {},
   "outputs": [],
   "source": [
    "from langchain_google_genai import GoogleGenerativeAIEmbeddings\n",
    "embeddings = GoogleGenerativeAIEmbeddings(model=\"models/embedding-001\")\n",
    "from langchain_google_genai import ChatGoogleGenerativeAI\n",
    "llm = ChatGoogleGenerativeAI(model=\"gemini-2.0-flash-exp\")"
   ]
  },
  {
   "cell_type": "code",
   "execution_count": null,
   "metadata": {},
   "outputs": [],
   "source": [
    "\n",
    "\n",
    "# Cell 4: Business Documentation Agent\n",
    "class BusinessDocAgent:\n",
    "    def __init__(self, llm):\n",
    "        self.llm = llm\n",
    "       \n",
    "\n",
    "    def generate_business_doc(self, title: str, description: str) -> Dict[str, str]:\n",
    "        # Create prompt\n",
    "        prompt = f\"\"\"\n",
    "        Based on the following project information, create a detailed business document:\n",
    "        \n",
    "        Title: {title}\n",
    "        Description: {description}\n",
    "        \n",
    "        Please provide a comprehensive business document that includes:\n",
    "        \n",
    "        # Executive Summary\n",
    "        [Provide a brief overview of the project]\n",
    "        \n",
    "        # Business Overview\n",
    "        ## Problem Statement\n",
    "        [Describe the problem being addressed]\n",
    "        \n",
    "        ## Proposed Solution\n",
    "        [Describe the solution in detail]\n",
    "        \n",
    "        # Market Analysis\n",
    "        ## Target Market\n",
    "        [Describe the target market]\n",
    "        \n",
    "        ## Market Opportunity\n",
    "        [Describe the market opportunity]\n",
    "        \n",
    "        # Business Model\n",
    "        ## Revenue Streams\n",
    "        [Describe how the business will generate revenue]\n",
    "        \n",
    "        ## Cost Structure\n",
    "        [Outline the main costs]\n",
    "        \n",
    "        # Implementation Plan\n",
    "        ## Timeline\n",
    "        [Provide high-level timeline]\n",
    "        \n",
    "        ## Key Milestones\n",
    "        [List key milestones]\n",
    "        \n",
    "        # Risk Analysis\n",
    "        [Identify potential risks and mitigation strategies]\n",
    "        \n",
    "        Format the response maintaining the section headers with # and ## as shown above.\n",
    "        \"\"\"\n",
    "\n",
    "        # Generate content using LLM\n",
    "        response = self.llm.invoke(prompt)\n",
    "        \n",
    "        #\n",
    "        return {\n",
    "            \"content\": response.content\n",
    "        }\n",
    "\n",
    "# Cell 5: Main Execution\n",
    "def create_business_document(title: str, description: str):\n",
    "    # Initialize components\n",
    "    agent = BusinessDocAgent(llm)\n",
    "    \n",
    "    # Generate document\n",
    "    result = agent.generate_business_doc(title, description)\n",
    "    \n",
    "    return result\n",
    "\n",
    "# Cell 6: Test Run\n",
    "title = \"AI-Powered E-commerce Platform\"\n",
    "description = \"\"\"\n",
    "Developing a modern e-commerce platform that leverages artificial intelligence \n",
    "to provide personalized shopping experiences, smart inventory management, and \n",
    "automated customer service. The platform will include features such as AI-powered \n",
    "product recommendations, chatbots for customer support, and predictive analytics \n",
    "for inventory optimization.\n",
    "\"\"\"\n",
    "\n",
    "result = create_business_document(title, description)  ##\n",
    "\n"
   ]
  },
  {
   "cell_type": "code",
   "execution_count": 7,
   "metadata": {},
   "outputs": [
    {
     "data": {
      "text/plain": [
       "{'content': '# Executive Summary\\n\\nThis document outlines the development of an AI-Powered E-commerce Platform designed to revolutionize online shopping experiences. The platform will leverage artificial intelligence to provide personalized product recommendations, automated customer support through chatbots, and predictive analytics for smart inventory management. By addressing the pain points of generic online shopping experiences and inefficient inventory practices, this platform aims to capture a significant share of the e-commerce market and deliver superior value to both customers and businesses.\\n\\n# Business Overview\\n\\n## Problem Statement\\n\\nThe current e-commerce landscape often suffers from several key issues:\\n\\n*   **Generic Shopping Experiences:** Many online stores offer a one-size-fits-all experience, failing to cater to individual customer preferences. This leads to lower engagement, decreased conversion rates, and customer dissatisfaction.\\n*   **Inefficient Inventory Management:** Businesses struggle with predicting demand accurately, resulting in either overstocking, leading to storage costs and potential waste, or understocking, leading to lost sales and customer frustration.\\n*   **Limited Customer Support Availability:** Traditional customer support channels are often slow, costly, and unable to provide immediate assistance, especially outside of business hours. This negatively impacts customer satisfaction and loyalty.\\n*   **Difficulty in Discovering Relevant Products:** Customers often feel overwhelmed by the sheer volume of products available, making it difficult to find items that truly match their needs and preferences.\\n\\n## Proposed Solution\\n\\nThe AI-Powered E-commerce Platform offers a comprehensive solution to these problems by integrating advanced artificial intelligence technologies:\\n\\n*   **AI-Powered Product Recommendations:** Machine learning algorithms will analyze customer behavior, purchase history, and browsing patterns to provide highly personalized product recommendations, increasing engagement and sales conversions. This will include features such as \"you may also like\" sections, personalized landing pages, and targeted email campaigns.\\n*   **AI Chatbots for Customer Support:** The platform will deploy intelligent chatbots capable of handling a wide range of customer inquiries, providing instant support 24/7. This will reduce customer support costs, improve response times, and enhance overall customer satisfaction. The chatbots will be able to handle FAQs, order tracking, basic troubleshooting, and escalate complex issues to human agents.\\n*   **Predictive Analytics for Inventory Optimization:** AI algorithms will analyze historical sales data, market trends, and other relevant factors to forecast demand accurately. This will enable businesses to optimize their inventory levels, minimize waste, reduce storage costs, and prevent stockouts, ensuring seamless order fulfillment.\\n*   **Personalized User Interfaces:** The platform will adapt user interfaces based on customer behavior and preferences, ensuring a tailored experience. This includes personalized dashboards, product filtering and sorting options, and content recommendations.\\n*   **Data-Driven Insights:**  The platform will provide businesses with access to comprehensive analytics and reporting dashboards, enabling them to track performance, identify trends, and make data-driven decisions to improve their operations.\\n\\n# Market Analysis\\n\\n## Target Market\\n\\nThe platform targets a broad range of users, including:\\n\\n*   **Online Shoppers:** Individuals who prefer to shop online due to convenience, accessibility, and a wider selection of products. This includes individuals of all ages, income levels, and geographical locations.\\n*   **Small to Medium-Sized Businesses (SMBs):** Retailers and businesses looking to establish or expand their online presence and benefit from AI-powered tools to enhance their operations. This includes businesses across various industries, such as clothing, electronics, home goods, and more.\\n*   **Large Enterprises:** Larger businesses seeking to improve their existing e-commerce platforms with cutting-edge AI capabilities.\\n*   **Drop-shipping Businesses:** Businesses looking to sell products without having to manage inventory directly.\\n\\n## Market Opportunity\\n\\nThe e-commerce market is experiencing rapid growth, with a continuously increasing number of consumers opting for online shopping. The global e-commerce market is projected to continue expanding significantly in the coming years, presenting a substantial market opportunity for innovative platforms that can address the existing challenges. The increasing adoption of AI technologies in various industries is also creating a conducive environment for AI-powered e-commerce solutions. The demand for personalized shopping experiences and efficient inventory management is also on the rise, which positions the platform well for success. By catering to this demand with advanced AI capabilities, the platform has a strong potential to gain a competitive edge and capture a significant portion of this growing market.\\n\\n# Business Model\\n\\n## Revenue Streams\\n\\nThe platform will generate revenue through several streams:\\n\\n*   **Subscription Fees:** Businesses will pay monthly or annual subscription fees to access the platform and its AI-powered features. Different tiers will be available with varying levels of features and support.\\n*   **Transaction Fees:** A small percentage of each transaction processed through the platform may be charged.\\n*   **Premium Features:** Access to advanced AI features, such as enhanced analytics or custom chatbot development, may be offered as premium add-ons.\\n*   **Data Analytics Services:** Businesses may opt to pay for access to in-depth data analysis and insights generated by the platform.\\n*   **Partnerships:** Collaborations with complementary businesses (e.g., payment gateways, shipping providers) could generate referral fees.\\n\\n## Cost Structure\\n\\nThe main costs associated with the platform include:\\n\\n*   **Development Costs:** Initial costs associated with developing the platform, including software development, UI/UX design, and infrastructure setup.\\n*   **Infrastructure Costs:** Ongoing costs associated with hosting the platform, maintaining servers, and ensuring platform security.\\n*   **Personnel Costs:** Salaries for developers, designers, marketing staff, and customer support personnel.\\n*   **Marketing and Sales Costs:** Expenses associated with promoting the platform and acquiring new customers.\\n*   **Maintenance and Support:** Ongoing costs associated with platform maintenance, bug fixing, and customer support.\\n*   **AI Model Training and Maintenance:** Costs associated with training and maintaining the AI models used for product recommendation, chatbot, and inventory optimization.\\n\\n# Implementation Plan\\n\\n## Timeline\\n\\nThe project will be implemented in phases:\\n\\n*   **Phase 1 (3 Months):** Platform design, core AI development, and basic feature implementation.\\n*   **Phase 2 (3 Months):** User interface development, testing, and initial beta launch.\\n*   **Phase 3 (2 Months):** Marketing, onboarding of early adopters, and platform refinement based on user feedback.\\n*   **Phase 4 (Ongoing):** Continuous platform enhancements, new feature rollouts, and expansion of marketing efforts.\\n\\n## Key Milestones\\n\\n*   **Completion of core AI algorithms:** Development of the AI models for product recommendation, chatbot, and inventory optimization.\\n*   **Development of the MVP (Minimum Viable Product):** A basic functional version of the platform.\\n*   **Beta launch:** Initial launch of the platform to a select group of users for testing and feedback.\\n*   **Official launch:** Public launch of the platform to a wider audience.\\n*   **Acquisition of initial customer base:** Onboarding of a set number of businesses to the platform.\\n*   **Achievement of target revenue:** Reaching a specific revenue goal within a set timeframe.\\n\\n# Risk Analysis\\n\\nPotential risks and mitigation strategies:\\n\\n*   **Risk:** Data Security and Privacy breaches.\\n    *   **Mitigation:** Implement robust security protocols, encryption measures, and comply with data privacy regulations. Conduct regular security audits and updates.\\n*   **Risk:** Technical challenges and development delays.\\n    *   **Mitigation:** Employ experienced developers, utilize agile methodologies, and have contingency plans for unexpected issues.\\n*   **Risk:** Competition from existing e-commerce platforms.\\n    *   **Mitigation:** Focus on unique selling points such as superior AI capabilities and personalized experiences. Build a strong brand and marketing strategy.\\n*   **Risk:** Inaccurate AI predictions and recommendations.\\n    *   **Mitigation:** Continuously train and refine AI models using feedback and new data. Monitor performance and adjust algorithms as needed.\\n*   **Risk:** Slow customer adoption and resistance to change.\\n    *   **Mitigation:** Offer comprehensive training and support. Demonstrate the benefits of the platform and highlight the value proposition.\\n*   **Risk:** Scalability issues as the platform grows.\\n    *   **Mitigation:** Design the platform with scalability in mind. Invest in robust infrastructure and continuously optimize performance.\\n'}"
      ]
     },
     "execution_count": 7,
     "metadata": {},
     "output_type": "execute_result"
    }
   ],
   "source": [
    "result"
   ]
  },
  {
   "cell_type": "markdown",
   "metadata": {},
   "source": [
    "#### new ###"
   ]
  },
  {
   "cell_type": "code",
   "execution_count": null,
   "metadata": {},
   "outputs": [],
   "source": []
  },
  {
   "cell_type": "code",
   "execution_count": null,
   "metadata": {},
   "outputs": [],
   "source": []
  },
  {
   "cell_type": "code",
   "execution_count": null,
   "metadata": {},
   "outputs": [],
   "source": []
  },
  {
   "cell_type": "code",
   "execution_count": null,
   "metadata": {},
   "outputs": [],
   "source": []
  },
  {
   "cell_type": "code",
   "execution_count": null,
   "metadata": {},
   "outputs": [],
   "source": []
  },
  {
   "cell_type": "code",
   "execution_count": null,
   "metadata": {},
   "outputs": [],
   "source": []
  }
 ],
 "metadata": {
  "kernelspec": {
   "display_name": "base",
   "language": "python",
   "name": "python3"
  },
  "language_info": {
   "codemirror_mode": {
    "name": "ipython",
    "version": 3
   },
   "file_extension": ".py",
   "mimetype": "text/x-python",
   "name": "python",
   "nbconvert_exporter": "python",
   "pygments_lexer": "ipython3",
   "version": "3.12.4"
  }
 },
 "nbformat": 4,
 "nbformat_minor": 2
}
